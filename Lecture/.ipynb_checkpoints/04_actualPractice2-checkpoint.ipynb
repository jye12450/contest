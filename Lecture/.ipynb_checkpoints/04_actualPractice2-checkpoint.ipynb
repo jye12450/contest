{
 "cells": [
  {
   "cell_type": "code",
   "execution_count": 12,
   "metadata": {},
   "outputs": [],
   "source": [
    "from selenium import webdriver\n",
    "from selenium.webdriver.common.keys import Keys\n",
    "import time"
   ]
  },
  {
   "cell_type": "code",
   "execution_count": 13,
   "metadata": {},
   "outputs": [],
   "source": [
    "chromedriver = 'C:/Users\\kkang/workspace/CRL/Lecture/chromedriver.exe'\n",
    "#driver = webdriver.Chrome(chromedriver) #Chromedriver\n",
    "#driver webdriver.PhantomJS(C:/Users\\kkang/workspace/CRL/Lecture/phantomjs-2.1.1-windows/bin/phantomejs.exe)\n",
    "headless_options = webdriver.ChromeOptions() # headless\n",
    "headless_options.add_argument('headless')\n",
    "headless_options.add_argument('disable-gpu') #그래픽 카드 미사용\n",
    "headless_options.add_argument('window-size=1920x1080')\n",
    "headless_options.add_argument(\"lang=ko_KR\")\n"
   ]
  },
  {
   "cell_type": "code",
   "execution_count": 15,
   "metadata": {},
   "outputs": [
    {
     "name": "stdout",
     "output_type": "stream",
     "text": [
      "홈\n",
      "사회\n",
      "정치\n",
      "경제\n",
      "국제\n",
      "문화\n",
      "IT\n",
      "랭킹\n",
      "연재\n",
      "포토\n",
      "TV\n",
      "1boon\n",
      "사진전\n",
      "서울\n",
      "서울 29 ℃\n"
     ]
    }
   ],
   "source": [
    "driver = webdriver.Chrome(chromedriver, options = headless_options) #Chromedriver\n",
    "driver.get('http://v.media.daum.net/v/20170202185812986')\n",
    "head_title = driver.find_element_by_css_selector(\"div[role='navigation']\") #css_selector 는 태그안에 속성까지 지정가능\n",
    "print(head_title.text)\n",
    "#body = driver.find_element_by_id('harmonyContainer')\n",
    "#print (body.text)\n",
    "driver.quit()"
   ]
  },
  {
   "cell_type": "markdown",
   "metadata": {},
   "source": [
    "# 실전 예제6: 트위터 사이트 로그인 해보기"
   ]
  },
  {
   "cell_type": "code",
   "execution_count": 34,
   "metadata": {},
   "outputs": [],
   "source": []
  },
  {
   "cell_type": "code",
   "execution_count": null,
   "metadata": {},
   "outputs": [],
   "source": [
    "search_field = driver.find_element_by_css_selector(\"input[role='combobox']\")\n",
    "search_field.clear()\n",
    "search_field.send_keys('남이섬')\n",
    "search_field.send_keys(Keys.RETURN)"
   ]
  },
  {
   "cell_type": "code",
   "execution_count": 40,
   "metadata": {
    "scrolled": true
   },
   "outputs": [
    {
     "name": "stdout",
     "output_type": "stream",
     "text": [
      "열\n",
      "@da_m_n_\n",
      "·\n",
      "Jul 27\n",
      "남이섬 가는 배\n",
      "1\n",
      "5\n",
      "고독한 눈빛\n",
      "@byh2008\n",
      "·\n",
      "Jul 26\n",
      "(link: https://news.v.daum.net/v/20190726162413792) \n",
      "news.v.daum.net/v/201907261624… 친일 자위녀 나베가 또 국민을 속이고 있다! 친밀파 이완용 후손 남이섬 땅 돌려준 판결 내린것은 모두가 아는데 감추려하고 자위대 행사 참석 말라고 공문까지 보냈는데 모르고 갔다는 공갈마녀! 손바닥으로 하늘을 가리려 하는 얼빠진 녀! 속을 국민은 없고, 주어는 없다!\n",
      "5\n",
      "5\n",
      "Bea Muñoz | TVT S1 2017\n",
      "@beyahmunyoz\n",
      "·\n",
      "Jul 25\n",
      "*sips tea* \n",
      " (it’s actually just latte, I just needed a caption) \n",
      ": \n",
      "@dixieandthecity\n",
      " \n",
      "————\n",
      "btw my watermark app updated and is weird now so yeah (^-^) @ 남이섬 - Nami Island \n",
      "(link: https://www.instagram.com/p/B0Ve289Jovh/?igshid=1k9r6ep7g08o8) \n",
      "instagram.com/p/B0Ve289Jovh/…\n",
      "2\n",
      "Mika Sales\n",
      "@mikasales248\n",
      "·\n",
      "Jul 24\n",
      "Chin up \n",
      ".\n",
      ".\n",
      ".\n",
      ".\n",
      ".\n",
      ".\n",
      "Taking in the beauty of this place.. it’s just w o w \n",
      " @ 남이섬 - Nami Island \n",
      "(link: https://www.instagram.com/p/B0TNDnvpPIlavnxMRN82Z7DAnpBuhKAOqWbKFM0/?igshid=ntvn59dh5jz9) \n",
      "instagram.com/p/B0TNDnvpPIla…\n",
      "1\n",
      "체리\n",
      "@cocococherry\n",
      "·\n",
      "5h\n",
      "ㅋㅋㅋㅋㅋ24일 비여서 쉬려나 했더닠ㅋㅋㅋㅋㅋㅋㅋㅋㅋㅋㅋㅋㅋㅋ\n",
      "\n",
      "23일 클럽FF 공연\n",
      "24일 남이섬\n",
      "25일 대구\n",
      "26일 송도\n",
      "\n",
      "도랏 ¿\n",
      "1\n",
      "2\n"
     ]
    }
   ],
   "source": [
    "data = driver.find_elements_by_css_selector('article[role=\"article\"]')\n",
    "for item in data:\n",
    "    print(item.text)\n",
    "#elem = driverid_field.send_keys('kkang49321@naver.com').find_element_by_name(\"session[username_or_email]\") \n",
    "#elem.clear() elem.send_keys(\"jhleeroot@gmail.com\") \n",
    "#elem = driver.find_element_by_name(\"session[password]\") \n",
    "#elem.send_keys(\"funcoding1\") \n",
    "#elem.send_keys(Keys.RETURN)\n",
    "#time.sleep(5)\n",
    "#print(driver.current_url)\n",
    "#print(driver.title)\n",
    "#driver.quit()"
   ]
  },
  {
   "cell_type": "code",
   "execution_count": 41,
   "metadata": {},
   "outputs": [],
   "source": [
    "driver.quit()"
   ]
  },
  {
   "cell_type": "code",
   "execution_count": null,
   "metadata": {},
   "outputs": [],
   "source": []
  }
 ],
 "metadata": {
  "kernelspec": {
   "display_name": "Python 3",
   "language": "python",
   "name": "python3"
  },
  "language_info": {
   "codemirror_mode": {
    "name": "ipython",
    "version": 3
   },
   "file_extension": ".py",
   "mimetype": "text/x-python",
   "name": "python",
   "nbconvert_exporter": "python",
   "pygments_lexer": "ipython3",
   "version": "3.7.4"
  }
 },
 "nbformat": 4,
 "nbformat_minor": 2
}
