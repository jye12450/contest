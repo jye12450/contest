{
 "cells": [
  {
   "cell_type": "code",
   "execution_count": 23,
   "metadata": {},
   "outputs": [],
   "source": [
    "from selenium import webdriver\n",
    "from selenium.webdriver.common.keys import Keys\n",
    "import time"
   ]
  },
  {
   "cell_type": "code",
   "execution_count": 25,
   "metadata": {},
   "outputs": [],
   "source": [
    "chromedriver = 'C:/Users\\kkang/workspace/CRL/Lecture/chromedriver.exe'\n",
    "#driver = webdriver.Chrome(chromedriver) #Chromedriver\n",
    "#driver webdriver.PhantomJS(C:/Users\\kkang/workspace/CRL/Lecture/phantomjs-2.1.1-windows/bin/phantomejs.exe)\n",
    "headless_options = webdriver.ChromeOptions() # headless\n",
    "headless_options.add_argument('headless')\n",
    "headless_options.add_argument('disable-gpu') #그래픽 카드 미사용\n",
    "headless_options.add_argument('window-size=1920x1080')\n",
    "                     options.add_argument(\"lang=ko_KR\")\n",
    "driver = webdriver.Chrome(chromedriver, options = headless_options) #Chromedriver\n",
    "\n"
   ]
  },
  {
   "cell_type": "code",
   "execution_count": 26,
   "metadata": {},
   "outputs": [
    {
     "name": "stdout",
     "output_type": "stream",
     "text": [
      "Welcome to Python.org\n",
      "https://www.python.org/\n"
     ]
    }
   ],
   "source": [
    "driver.get('http://www.python.org')\n",
    "assert \"Python\" in driver.title\n",
    "print(driver.title)\n",
    "print(driver.current_url)"
   ]
  },
  {
   "cell_type": "markdown",
   "metadata": {},
   "source": [
    "# 데이터 가져오기 주요함수\n",
    "- find_element_by_id\n",
    "- find_element_by_name \n",
    "- find_element_by_tag_name \n",
    "- find_element_by_class_name \n",
    "- find_element_by_css_selector \n",
    "- find_element_by_xpath (XPATH 문법 이해 필요)"
   ]
  },
  {
   "cell_type": "code",
   "execution_count": 27,
   "metadata": {},
   "outputs": [
    {
     "name": "stdout",
     "output_type": "stream",
     "text": [
      "Download Python for Other Platforms\n",
      "Python Documentation by Version\n",
      "Python 2.5.3\n",
      "Python 2.5.4 Release\n",
      "Python 2.5.4\n",
      "Python 2.5.3 Release\n",
      "Python 2.5 Release\n",
      "Python 2.5.2 Release\n",
      "Python 2.5.1 Release\n",
      "Python 3.1.4\n",
      "Python 2.5.0\n",
      "Python 2.5.2\n",
      "Python 3.1.4 Release\n",
      "Python 3.1.3 Release\n",
      "Python 2.5.1\n",
      "Python 3.2.1 Release\n",
      "Python 2.7.9rc1\n",
      "Python 3.0 Release\n",
      "Python 3.2.5 Release\n",
      "Python 3.2.0\n"
     ]
    }
   ],
   "source": [
    "search = driver.find_element_by_name(\"q\")\n",
    "search.clear()\n",
    "search.send_keys(\"python\")\n",
    "search.send_keys(Keys.RETURN)\n",
    "\n",
    "time.sleep(3)\n",
    "assert \"No results found.\" not in driver.page_source\n",
    "\n",
    "data = driver.find_elements_by_css_selector(\"#content > div > section > form > ul > li > h3 > a\")\n",
    "for item in data:\n",
    "    print(item.text)\n",
    "driver.quit()"
   ]
  },
  {
   "cell_type": "markdown",
   "metadata": {},
   "source": [
    "# Selenium 사용법\n",
    "### 데이터 가져오기 주요 함수 \n",
    "- find_element_by_name(): 최초 발견한 name으로 가져오기\n",
    "- find_elements_by_name(): name이 동일한 모든 리스트를 가져오기\n",
    "\n",
    "### 크롤링 사이트 정보 확인 \n",
    "- 사이트 주소: driver.current_url \n",
    "- 사이트 타이틀: driver.title\n",
    "\n",
    "### 브라우저 컨트롤 \n",
    "- clear(): input 텍스트 초기화 하기\n",
    "- send_keys(키워드): 키보드 입력값 전달하기 \n",
    "- Keys.RETURN ‑ 엔터키 \n",
    "- dir(Keys) 로 키에 대응되는 이름 찾기"
   ]
  },
  {
   "cell_type": "code",
   "execution_count": 11,
   "metadata": {},
   "outputs": [],
   "source": [
    "#dir(Keys)"
   ]
  },
  {
   "cell_type": "markdown",
   "metadata": {},
   "source": [
    "# Selenium 사용법\n",
    "- assert로 driver.page_source 에서 특정 키워드 확인하기\n",
    "- time.sleep() 함수로 일정 시간 브라우저 내용 확인할 수 있도록 하기 \n",
    "- driver.quit() 함수로 브라우저 끝내기"
   ]
  },
  {
   "cell_type": "code",
   "execution_count": null,
   "metadata": {},
   "outputs": [],
   "source": []
  }
 ],
 "metadata": {
  "kernelspec": {
   "display_name": "Python 3",
   "language": "python",
   "name": "python3"
  },
  "language_info": {
   "codemirror_mode": {
    "name": "ipython",
    "version": 3
   },
   "file_extension": ".py",
   "mimetype": "text/x-python",
   "name": "python",
   "nbconvert_exporter": "python",
   "pygments_lexer": "ipython3",
   "version": "3.7.4"
  }
 },
 "nbformat": 4,
 "nbformat_minor": 2
}
