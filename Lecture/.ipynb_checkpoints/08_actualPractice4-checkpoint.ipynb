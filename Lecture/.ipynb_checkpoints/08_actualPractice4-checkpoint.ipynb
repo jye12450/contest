{
 "cells": [
  {
   "cell_type": "code",
   "execution_count": null,
   "metadata": {},
   "outputs": [],
   "source": [
    "from selenium import webdriver\n",
    "from selenium.webdriver.support.ui import WebDriverWait\n",
    "from selenium.webdriver.support import expected_conditions as EC\n",
    "from selenium.webdriver.common.by import By\n",
    "from selenium.webdriver.common.keys import Keys\n",
    "import time"
   ]
  },
  {
   "cell_type": "markdown",
   "metadata": {},
   "source": [
    "### Login"
   ]
  },
  {
   "cell_type": "code",
   "execution_count": 20,
   "metadata": {},
   "outputs": [],
   "source": [
    "chromedriver = 'C:/Users\\kkang/workspace/CRL/Lecture/chromedriver.exe'\n",
    "driver = webdriver.Chrome(chromedriver)\n",
    "driver.get('https://www.instagram.com/')\n",
    "\n",
    "time.sleep(2)\n",
    "\n",
    "login = driver.find_element_by_xpath('//*[@id=\"react-root\"]/section/main/article/div[2]/div[2]/p/a')\n",
    "login.click()\n",
    "\n",
    "time.sleep(2)\n",
    "\n",
    "user = driver.find_element_by_css_selector(\"input[class='_2hvTZ pexuQ zyHYP']\")\n",
    "user.clear()\n",
    "user.send_keys('wnsdudek03@gmail.com')\n",
    "password = driver.find_element_by_css_selector(\"input[name='password']\")\n",
    "password.clear()\n",
    "password.send_keys('pepsi1997a')\n",
    "password.send_keys(Keys.RETURN)\n"
   ]
  },
  {
   "cell_type": "code",
   "execution_count": 22,
   "metadata": {},
   "outputs": [],
   "source": [
    "button_later = driver.find_element_by_css_selector(\"button[class='aOOlW   HoLwm ']\") \n",
    "button_later.click()"
   ]
  },
  {
   "cell_type": "code",
   "execution_count": 27,
   "metadata": {},
   "outputs": [],
   "source": [
    "search = driver.find_element_by_css_selector('div > input')\n",
    "search.clear()\n",
    "search.send_keys(\"남이섬\")\n",
    "click_nam = driver.find_element_by_css_selector(\"div[class='z556c']\")\n",
    "click_nam.click()"
   ]
  },
  {
   "cell_type": "code",
   "execution_count": 26,
   "metadata": {},
   "outputs": [],
   "source": [
    "contents = driver.find_elements_by_css_selector(\"div[class='_9AhH0']\")\n"
   ]
  },
  {
   "cell_type": "markdown",
   "metadata": {},
   "source": [
    "### 기사 가져오기 "
   ]
  },
  {
   "cell_type": "code",
   "execution_count": null,
   "metadata": {},
   "outputs": [],
   "source": [
    "from selenium import webdriver\n",
    "\n",
    "driver = webdriver.Chrome('C:/dev_python/Webdriver/chromedriver.exe')\n",
    "driver.get(\"https://www.seeko.co.kr/zboard4/zboard.php?id=mainnews\")\n",
    "\n",
    "article_data = list() titles = driver.find_element_by_xpath([-------]) \n",
    "hits = driver.find_element_by_xpath([-------])\n",
    "\n",
    "for num in range(10): \n",
    "    article_data.append([titles[num].text, hits[num].text])\n",
    "    \n",
    "print (article_data)\n"
   ]
  }
 ],
 "metadata": {
  "kernelspec": {
   "display_name": "Python 3",
   "language": "python",
   "name": "python3"
  },
  "language_info": {
   "codemirror_mode": {
    "name": "ipython",
    "version": 3
   },
   "file_extension": ".py",
   "mimetype": "text/x-python",
   "name": "python",
   "nbconvert_exporter": "python",
   "pygments_lexer": "ipython3",
   "version": "3.7.4"
  }
 },
 "nbformat": 4,
 "nbformat_minor": 2
}
