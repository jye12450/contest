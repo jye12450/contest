{
 "cells": [
  {
   "cell_type": "markdown",
   "metadata": {},
   "source": [
    "## 클래스"
   ]
  },
  {
   "cell_type": "code",
   "execution_count": null,
   "metadata": {},
   "outputs": [],
   "source": [
    "class Qurd():\n",
    "    width = 0 #atribute\n",
    "    height= 0 \n",
    "    color = ''\n",
    "    name = 'Qurd'\n",
    "    def qurd_name(self): #method\n",
    "        return self.name"
   ]
  },
  {
   "cell_type": "markdown",
   "metadata": {},
   "source": [
    "## 객체 생성    "
   ]
  },
  {
   "cell_type": "code",
   "execution_count": 4,
   "metadata": {},
   "outputs": [],
   "source": [
    "qurd1  = Qurd()\n",
    "qurd2 = Qurd()"
   ]
  },
  {
   "cell_type": "markdown",
   "metadata": {},
   "source": [
    "## 객체 기능 호출 "
   ]
  },
  {
   "cell_type": "code",
   "execution_count": 6,
   "metadata": {},
   "outputs": [
    {
     "name": "stdout",
     "output_type": "stream",
     "text": [
      "10 0\n"
     ]
    }
   ],
   "source": [
    "qurd1.width = 10 \n",
    "print(qurd1.width, qurd2.width) # 설계도만 같다 (붕어빵틀)"
   ]
  },
  {
   "cell_type": "code",
   "execution_count": 7,
   "metadata": {},
   "outputs": [
    {
     "data": {
      "text/plain": [
       "'blueQurd'"
      ]
     },
     "execution_count": 7,
     "metadata": {},
     "output_type": "execute_result"
    }
   ],
   "source": [
    "qurd1.name = \"blueQurd\"\n",
    "qurd1.qurd_name()"
   ]
  },
  {
   "cell_type": "code",
   "execution_count": 3,
   "metadata": {},
   "outputs": [
    {
     "name": "stdout",
     "output_type": "stream",
     "text": [
      "Package            Version  \n",
      "------------------ ---------\n",
      "aiohttp            3.4.4    \n",
      "asn1crypto         0.24.0   \n",
      "astroid            2.2.5    \n",
      "async-timeout      3.0.1    \n",
      "attrs              19.1.0   \n",
      "Automat            0.7.0    \n",
      "backcall           0.1.0    \n",
      "backend.ai-client  19.3.1   \n",
      "beautifulsoup4     4.8.0    \n",
      "bleach             3.1.0    \n",
      "branca             0.3.1    \n",
      "bs4                0.0.1    \n",
      "certifi            2019.6.16\n",
      "cffi               1.12.3   \n",
      "chardet            3.0.4    \n",
      "Click              7.0      \n",
      "colorama           0.4.1    \n",
      "constantly         15.1.0   \n",
      "cryptography       2.7      \n",
      "cssselect          1.0.3    \n",
      "cycler             0.10.0   \n",
      "decorator          4.3.2    \n",
      "defusedxml         0.6.0    \n",
      "descartes          1.1.0    \n",
      "dj-database-url    0.5.0    \n",
      "entrypoints        0.3      \n",
      "folium             0.5.0    \n",
      "gunicorn           19.9.0   \n",
      "humanize           0.5.1    \n",
      "hyperlink          19.0.0   \n",
      "idna               2.8      \n",
      "incremental        17.5.0   \n",
      "ipykernel          5.1.0    \n",
      "ipython            7.3.0    \n",
      "ipython-genutils   0.2.0    \n",
      "ipywidgets         7.5.0    \n",
      "isort              4.3.16   \n",
      "jedi               0.13.3   \n",
      "Jinja2             2.10.1   \n",
      "joblib             0.13.2   \n",
      "jsonschema         3.0.1    \n",
      "jupyter-client     5.2.4    \n",
      "jupyter-console    6.0.0    \n",
      "jupyter-core       4.4.0    \n",
      "kiwisolver         1.1.0    \n",
      "lazy-object-proxy  1.3.1    \n",
      "lxml               4.4.0    \n",
      "MarkupSafe         1.1.1    \n",
      "matplotlib         3.1.0    \n",
      "mccabe             0.6.1    \n",
      "missingno          0.4.2    \n",
      "mistune            0.8.4    \n",
      "mizani             0.5.4    \n",
      "multidict          4.5.2    \n",
      "namedlist          1.7      \n",
      "nbconvert          5.5.0    \n",
      "nbformat           4.4.0    \n",
      "notebook           6.0.0    \n",
      "numpy              1.16.2   \n",
      "palettable         3.2.0    \n",
      "pandas             0.24.2   \n",
      "pandocfilters      1.4.2    \n",
      "parsel             1.5.1    \n",
      "parso              0.3.4    \n",
      "patsy              0.5.1    \n",
      "pep8               1.7.1    \n",
      "pickleshare        0.7.5    \n",
      "pip                19.0.3   \n",
      "plotnine           0.5.0    \n",
      "prometheus-client  0.7.1    \n",
      "prompt-toolkit     2.0.9    \n",
      "psycopg2-binary    2.8.2    \n",
      "pyasn1             0.4.6    \n",
      "pyasn1-modules     0.2.6    \n",
      "pycparser          2.19     \n",
      "PyDispatcher       2.0.5    \n",
      "Pygments           2.3.1    \n",
      "PyHamcrest         1.9.0    \n",
      "pylint             2.3.1    \n",
      "pyOpenSSL          19.0.0   \n",
      "pyparsing          2.4.0    \n",
      "pyrsistent         0.15.3   \n",
      "python-dateutil    2.8.0    \n",
      "pytz               2018.9   \n",
      "pywinpty           0.5.5    \n",
      "pyzmq              18.0.1   \n",
      "qtconsole          4.5.2    \n",
      "queuelib           1.5.0    \n",
      "requests           2.22.0   \n",
      "scikit-learn       0.21.2   \n",
      "scipy              1.3.0    \n",
      "seaborn            0.9.0    \n",
      "selenium           3.141.0  \n",
      "Send2Trash         1.5.0    \n",
      "service-identity   18.1.0   \n",
      "setuptools         40.8.0   \n",
      "six                1.12.0   \n",
      "sklearn            0.0      \n",
      "soupsieve          1.9.2    \n",
      "statsmodels        0.10.1   \n",
      "tabulate           0.8.3    \n",
      "terminado          0.8.2    \n",
      "testpath           0.4.2    \n",
      "tornado            6.0.1    \n",
      "tqdm               4.31.1   \n",
      "traitlets          4.3.2    \n",
      "typed-ast          1.3.1    \n",
      "urllib3            1.25.3   \n",
      "w3lib              1.20.0   \n",
      "wcwidth            0.1.7    \n",
      "webencodings       0.5.1    \n",
      "whitenoise         4.1.2    \n",
      "widgetsnbextension 3.5.0    \n",
      "wrapt              1.11.1   \n",
      "xlrd               1.2.0    \n",
      "yarl               1.3.0    \n",
      "zope.interface     4.6.0    \n",
      "Note: you may need to restart the kernel to use updated packages.\n"
     ]
    },
    {
     "name": "stderr",
     "output_type": "stream",
     "text": [
      "You are using pip version 19.0.3, however version 19.2.1 is available.\n",
      "You should consider upgrading via the 'python -m pip install --upgrade pip' command.\n"
     ]
    }
   ],
   "source": [
    "%pip list"
   ]
  },
  {
   "cell_type": "code",
   "execution_count": 1,
   "metadata": {},
   "outputs": [],
   "source": []
  },
  {
   "cell_type": "code",
   "execution_count": 2,
   "metadata": {},
   "outputs": [
    {
     "data": {
      "text/plain": [
       "scrapy.spiders.Spider"
      ]
     },
     "execution_count": 2,
     "metadata": {},
     "output_type": "execute_result"
    }
   ],
   "source": []
  },
  {
   "cell_type": "code",
   "execution_count": null,
   "metadata": {},
   "outputs": [],
   "source": []
  }
 ],
 "metadata": {
  "kernelspec": {
   "display_name": "Python 3",
   "language": "python",
   "name": "python3"
  },
  "language_info": {
   "codemirror_mode": {
    "name": "ipython",
    "version": 3
   },
   "file_extension": ".py",
   "mimetype": "text/x-python",
   "name": "python",
   "nbconvert_exporter": "python",
   "pygments_lexer": "ipython3",
   "version": "3.7.4"
  }
 },
 "nbformat": 4,
 "nbformat_minor": 2
}
