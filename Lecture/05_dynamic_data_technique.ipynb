{
 "cells": [
  {
   "cell_type": "markdown",
   "metadata": {},
   "source": [
    "# 특정 태그 일정 시간 기다리기 기능\n",
    "from selenium.webdriver.support.ui import WebDriverWait\n",
    "\n",
    "from selenium.webdriver.support import expected_conditions as EC\n",
    "\n",
    "element = WebDriverWait(driver, 3).until(\n",
    "\n",
    "    EC.presence_of_element_located((By.ID, \"alex-area\"))\n",
    "    \n",
    "    )"
   ]
  },
  {
   "cell_type": "markdown",
   "metadata": {},
   "source": [
    "# 특정 태그 존재 여부 확인 기능\n",
    "###### from selenium.webdriver.common.by import By\n",
    "\n",
    "- 해당 태그가 존재하는지 확인 \n",
    "\n",
    "    - 예: (By.ID, \"alex‑area\")\n",
    "\n",
    "- 태그 선택 방법 \n",
    "\n",
    "    - By.CLASS_NAME: class name \n",
    "\n",
    "    - By.CSS_SELECTOR: css selector \n",
    "\n",
    "    - By.ID: id \n",
    "\n",
    "    - By.NAME: name \n",
    "\n",
    "    - By.TAG_NAME: tag name"
   ]
  },
  {
   "cell_type": "markdown",
   "metadata": {},
   "source": [
    "# 특정 태그 일정 시간 기다리기 기능\n",
    "##### 3초안에 안나타날 때\n",
    "from selenium.common.exceptions import TimeoutException\n",
    "\n",
    "try:\n",
    "\n",
    "    element = WebDriverWait(driver, 3).until( \n",
    "    \n",
    "    EC.presence_of_element_located((By.CSS_SELECTOR, \"a\"))\n",
    "    \n",
    "    ) \n",
    "    \n",
    "    more_button = driver.find_element_by_css_selector(\"a\") \n",
    "    \n",
    "    more_button.click() \n",
    "    \n",
    "    count += 1\n",
    "    \n",
    "except TimeoutException: \n",
    "\n",
    "    loop = False"
   ]
  },
  {
   "cell_type": "markdown",
   "metadata": {},
   "source": [
    "# 키보드/마우스 동작 자동화하기\n",
    "\n",
    "from selenium import webdriver \n",
    "\n",
    "hidden_submenu = driver.find_element_by_css_selector(\".nav #submenu1\")\n",
    "\n",
    "actions = webdriver.ActionChains(driver) \n",
    "___\n",
    "actions.click(hidden_submenu) <- 순차적 액션 적는 구간\n",
    "___ \n",
    "actions.perform()\n",
    "\n",
    "또는 \n",
    "webdriver.ActionChains(driver).click(hidden_submenu).perform()\n",
    "\n",
    "참고 \n",
    "\n",
    "https://seleniumhq.github.io/selenium/docs/api/py/webdriver/selenium.webdriver.common.action_chains.html?highlight=move_to_element#selenium.webdriver.common.action_chains.ActionChains.move_to_element\n"
   ]
  },
  {
   "cell_type": "code",
   "execution_count": null,
   "metadata": {},
   "outputs": [],
   "source": []
  }
 ],
 "metadata": {
  "kernelspec": {
   "display_name": "Python 3",
   "language": "python",
   "name": "python3"
  },
  "language_info": {
   "codemirror_mode": {
    "name": "ipython",
    "version": 3
   },
   "file_extension": ".py",
   "mimetype": "text/x-python",
   "name": "python",
   "nbconvert_exporter": "python",
   "pygments_lexer": "ipython3",
   "version": "3.7.4"
  }
 },
 "nbformat": 4,
 "nbformat_minor": 2
}
