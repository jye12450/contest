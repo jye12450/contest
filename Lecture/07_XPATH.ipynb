{
 "cells": [
  {
   "cell_type": "markdown",
   "metadata": {},
   "source": [
    "# 새로운 기법: XPATH를 이용해서 크롤링하기\n",
    "- / : 절대경로를 나타냄 \n",
    "- // : 문서내에서 검색 \n",
    "- //@href : href 속성이 있는 모든 태그 선택\n",
    "- //a[@href='http://google.com'] : a 태그의 href 속성에 http://google.com 속성값을 가진 모든 태그 선택 \n",
    "- (//a)[3] : 문서의 세 번째 링크 선택\n",
    "- (//table)[last()] : 문서의 마지막 테이블 선택 -\n",
    "- (//a)[position() < 3] : 문서의 처음 두 링크 선택 \n",
    "- //table/tr/* 모든 테이블에서 모든 자식 tr 태그 선택\n",
    "- //div[@*] 속성이 하나라도 있는 div 태그 선택"
   ]
  },
  {
   "cell_type": "code",
   "execution_count": 8,
   "metadata": {},
   "outputs": [
    {
     "name": "stdout",
     "output_type": "stream",
     "text": [
      "성윤모, 日 세코 왜곡발언 반박..소재부품 지원체계 점검(종합)\n"
     ]
    }
   ],
   "source": [
    "from selenium import webdriver\n",
    "\n",
    "headless_options = webdriver.ChromeOptions()\n",
    "\n",
    "headless_options.add_argument('headless')\n",
    "headless_options.add_argument('disable-gpu') #그래픽 카드 미사용\n",
    "headless_options.add_argument('window-size=1920x1080')\n",
    "headless_options.add_argument(\"lang=ko_KR\")\n",
    "chromedriver = 'C:/Users\\kkang/workspace/CRL/Lecture/chromedriver.exe'\n",
    "driver = webdriver.Chrome(chromedriver, options = options)\n",
    "driver.get('https://news.v.daum.net/v/20190803121102792')\n",
    "\n",
    "title = driver.find_element_by_xpath('//*[@id=\"cSub\"]/div/h3')\n",
    "print(title.text)\n",
    "driver.quit()"
   ]
  },
  {
   "cell_type": "markdown",
   "metadata": {},
   "source": [
    "### 문서 내 태그 검색 \n",
    "\n",
    "- title = driver.find_element_by_xpath(\"//title\") # 문서내의 어떤 태그든지 가능\n",
    "\n",
    "### 절대경로 \n",
    "\n",
    "- title = driver.find_element_by_xpath(\"/html/head/title\")\n",
    "\n",
    "### html 태그 내에서 다시 검색 \n",
    "\n",
    "- title = driver.find_element_by_xpath(\"/html//title\")\n",
    "\n",
    "### soup.find('h3', attrs = {'class' : 'tit_s'}) \n",
    "\n",
    "- title_content = driver.find_element_by_xpath(\"//h3[@class='tit_view']\")\n"
   ]
  },
  {
   "cell_type": "code",
   "execution_count": null,
   "metadata": {},
   "outputs": [],
   "source": []
  }
 ],
 "metadata": {
  "kernelspec": {
   "display_name": "Python 3",
   "language": "python",
   "name": "python3"
  },
  "language_info": {
   "codemirror_mode": {
    "name": "ipython",
    "version": 3
   },
   "file_extension": ".py",
   "mimetype": "text/x-python",
   "name": "python",
   "nbconvert_exporter": "python",
   "pygments_lexer": "ipython3",
   "version": "3.7.4"
  }
 },
 "nbformat": 4,
 "nbformat_minor": 2
}
