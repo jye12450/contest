{
 "cells": [
  {
   "cell_type": "code",
   "execution_count": 1,
   "metadata": {},
   "outputs": [],
   "source": [
    "import requests\n",
    "from bs4 import BeautifulSoup"
   ]
  },
  {
   "cell_type": "code",
   "execution_count": 23,
   "metadata": {},
   "outputs": [],
   "source": [
    "def get_bs_obj(company_code):\n",
    "    url = \"https://finance.naver.com/item/main.nhn?code=\" + company_code\n",
    "    result = requests.get(url)\n",
    "    bs_obj = BeautifulSoup(result.content , \"html.parser\")\n",
    "    return bs_obj\n"
   ]
  },
  {
   "cell_type": "code",
   "execution_count": 24,
   "metadata": {},
   "outputs": [],
   "source": [
    "def get_price(company_code):\n",
    "    bs_obj = get_bs_obj(company_code)\n",
    "    no_today = bs_obj.find(\"p\",{\"class\":\"no_today\"})\n",
    "    blind_now = no_today.find(\"span\",{\"class\":\"blind\"})\n",
    "    return(blind_now.text)"
   ]
  },
  {
   "cell_type": "code",
   "execution_count": 25,
   "metadata": {},
   "outputs": [
    {
     "data": {
      "text/plain": [
       "'45,200'"
      ]
     },
     "execution_count": 25,
     "metadata": {},
     "output_type": "execute_result"
    }
   ],
   "source": [
    "#samsung 005930\n",
    "price = get_price(\"005930\")\n",
    "price"
   ]
  },
  {
   "cell_type": "code",
   "execution_count": 26,
   "metadata": {},
   "outputs": [
    {
     "data": {
      "text/plain": [
       "'77,700'"
      ]
     },
     "execution_count": 26,
     "metadata": {},
     "output_type": "execute_result"
    }
   ],
   "source": [
    "#hynix 000660\n",
    "price_hynix = get_price(\"000660\")\n",
    "price_hynix"
   ]
  },
  {
   "cell_type": "code",
   "execution_count": 31,
   "metadata": {},
   "outputs": [],
   "source": [
    "def get_candlechart_data(company_code):\n",
    "    bs_obj = get_bs_obj(company_code)\n",
    "    td_first = bs_obj.find(\"td\",{\"class\":\"first\"})\n",
    "    blind= td_first.find(\"span\",{\"class\":\"blind\"})\n",
    "    #close 종가(전일)\n",
    "    close = blind.text\n",
    "    return(close)"
   ]
  },
  {
   "cell_type": "code",
   "execution_count": 32,
   "metadata": {},
   "outputs": [
    {
     "data": {
      "text/plain": [
       "'76,900'"
      ]
     },
     "execution_count": 32,
     "metadata": {},
     "output_type": "execute_result"
    }
   ],
   "source": [
    "get_candlechart_data(\"000660\")"
   ]
  },
  {
   "cell_type": "code",
   "execution_count": null,
   "metadata": {},
   "outputs": [],
   "source": []
  }
 ],
 "metadata": {
  "kernelspec": {
   "display_name": "Python 3",
   "language": "python",
   "name": "python3"
  },
  "language_info": {
   "codemirror_mode": {
    "name": "ipython",
    "version": 3
   },
   "file_extension": ".py",
   "mimetype": "text/x-python",
   "name": "python",
   "nbconvert_exporter": "python",
   "pygments_lexer": "ipython3",
   "version": "3.7.4"
  }
 },
 "nbformat": 4,
 "nbformat_minor": 2
}
