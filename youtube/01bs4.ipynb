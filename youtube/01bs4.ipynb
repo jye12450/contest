{
 "cells": [
  {
   "cell_type": "code",
   "execution_count": 59,
   "metadata": {},
   "outputs": [],
   "source": [
    "import bs4 \n",
    "import urllib.request as urlr"
   ]
  },
  {
   "cell_type": "code",
   "execution_count": 60,
   "metadata": {},
   "outputs": [],
   "source": [
    "url = \"https://www.naver.com\"\n",
    "html = urllib.request.urlopen(url)\n",
    "bsObj = bs4.BeautifulSoup(html,\"html.parser\")\n"
   ]
  },
  {
   "cell_type": "code",
   "execution_count": 61,
   "metadata": {},
   "outputs": [],
   "source": [
    "top_right = bsObj.find(\"div\",{\"class\":\"area_links\"})"
   ]
  },
  {
   "cell_type": "code",
   "execution_count": 62,
   "metadata": {},
   "outputs": [],
   "source": [
    "first_a =top_right.find(\"a\")"
   ]
  },
  {
   "cell_type": "code",
   "execution_count": 63,
   "metadata": {},
   "outputs": [
    {
     "name": "stdout",
     "output_type": "stream",
     "text": [
      "네이버를 시작페이지로\n"
     ]
    }
   ],
   "source": [
    "print(first_a.text)"
   ]
  },
  {
   "cell_type": "code",
   "execution_count": 64,
   "metadata": {},
   "outputs": [
    {
     "name": "stdout",
     "output_type": "stream",
     "text": [
      "[<li class=\"an_item\">\n",
      "<a class=\"an_a mn_mail\" data-clk=\"svc.mail\" href=\"https://mail.naver.com/\">\n",
      "<span class=\"an_icon\"></span><span class=\"an_txt\">메일</span>\n",
      "</a>\n",
      "</li>, <li class=\"an_item\">\n",
      "<a class=\"an_a mn_cafe\" data-clk=\"svc.cafe\" href=\"https://section.cafe.naver.com/\">\n",
      "<span class=\"an_icon\"></span><span class=\"an_txt\">카페</span>\n",
      "</a>\n",
      "</li>, <li class=\"an_item\">\n",
      "<a class=\"an_a mn_blog\" data-clk=\"svc.blog\" href=\"https://section.blog.naver.com/\">\n",
      "<span class=\"an_icon\"></span><span class=\"an_txt\">블로그</span>\n",
      "</a>\n",
      "</li>, <li class=\"an_item\">\n",
      "<a class=\"an_a mn_kin\" data-clk=\"svc.kin\" href=\"https://kin.naver.com/\">\n",
      "<span class=\"an_icon\"></span><span class=\"an_txt\">지식인</span>\n",
      "</a>\n",
      "</li>, <li class=\"an_item\">\n",
      "<a class=\"an_a mn_shopping\" data-clk=\"svc.shopping\" href=\"https://shopping.naver.com/\">\n",
      "<span class=\"an_icon\"></span><span class=\"an_txt\">쇼핑</span>\n",
      "</a>\n",
      "</li>, <li class=\"an_item\">\n",
      "<a class=\"an_a mn_checkout\" data-clk=\"svc.pay\" href=\"https://order.pay.naver.com/home\">\n",
      "<span class=\"an_icon\"></span><span class=\"an_txt\">네이버페이</span>\n",
      "</a>\n",
      "</li>, <li class=\"an_item\">\n",
      "<a class=\"an_a mn_tvcast\" data-clk=\"svc.tvcast\" href=\"https://tv.naver.com/\">\n",
      "<span class=\"an_icon\"></span><span class=\"an_txt\">네이버TV</span>\n",
      "</a>\n",
      "</li>]\n",
      "메일\n",
      "카페\n",
      "블로그\n",
      "지식인\n",
      "쇼핑\n",
      "네이버페이\n",
      "네이버TV\n"
     ]
    }
   ],
   "source": [
    "ul = bsObj.find(\"ul\",{\"class\":\"an_l\"})\n",
    "lis =ul.findAll(\"li\")\n",
    "print(lis)\n",
    "for li in lis:\n",
    "    a_tag = li.find(\"a\")\n",
    "    span = a_tag.find(\"span\",{\"class\":\"an_txt\"})\n",
    "    print(span.text)"
   ]
  },
  {
   "cell_type": "code",
   "execution_count": 82,
   "metadata": {},
   "outputs": [],
   "source": [
    "url_news = \"http://news.naver.com/\"\n",
    "html_news = urlr.urlopen(url_news)\n",
    "\n",
    "bs_obj = bs4.BeautifulSoup(html_news.read(),\"html.parser\")\n",
    "\n",
    "div = bs_obj.find(\"div\",{\"id\":\"today_main_news\"})\n",
    "lis = div.findAll(\"li\")\n",
    "titles = [ li.find(\"a\").text for li in lis]"
   ]
  },
  {
   "cell_type": "code",
   "execution_count": 96,
   "metadata": {},
   "outputs": [
    {
     "name": "stdout",
     "output_type": "stream",
     "text": [
      "['서울대 복직한 조국, ‘폴리페서’ 논란에 “도덕적 의무” 반박', '분양가 상한제 시행 초읽기…서울 아파트값은 5주 연속 상승', '‘한 번은 아니지만 계속 내리진 않겠다’ 미적지근한 10년 만의 미국 금리 인하', '‘환경부 블랙리스트’ 수사 주진우 부장검사, 인사 불이익 판단 사의 표명', '文대통령, 장관들 긴급 소집…日 수출규제 상황점검 회의(종합)']\n"
     ]
    }
   ],
   "source": [
    "new = []\n",
    "for v in titles:\n",
    "    new.append(v.strip())\n",
    "               \n",
    "print(new)  "
   ]
  },
  {
   "cell_type": "code",
   "execution_count": null,
   "metadata": {},
   "outputs": [],
   "source": []
  }
 ],
 "metadata": {
  "kernelspec": {
   "display_name": "Python 3",
   "language": "python",
   "name": "python3"
  },
  "language_info": {
   "codemirror_mode": {
    "name": "ipython",
    "version": 3
   },
   "file_extension": ".py",
   "mimetype": "text/x-python",
   "name": "python",
   "nbconvert_exporter": "python",
   "pygments_lexer": "ipython3",
   "version": "3.7.4"
  }
 },
 "nbformat": 4,
 "nbformat_minor": 2
}
