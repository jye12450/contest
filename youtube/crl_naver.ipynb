{
 "cells": [
  {
   "cell_type": "code",
   "execution_count": 8,
   "metadata": {},
   "outputs": [],
   "source": [
    "import sys\n",
    "from urllib.parse import urlparse\n",
    "import requests\n"
   ]
  },
  {
   "cell_type": "code",
   "execution_count": 9,
   "metadata": {},
   "outputs": [
    {
     "name": "stdout",
     "output_type": "stream",
     "text": [
      "{'lastBuildDate': 'Thu, 01 Aug 2019 17:58:30 +0900', 'total': 291079, 'start': 1, 'display': 10, 'items': [{'title': '<b>남이섬</b> 맛집 :: 찰떡궁합이었던 맛!', 'link': 'https://blog.naver.com/roynmin?Redirect=Log&logNo=221582576251', 'description': '아침고요수목원이랑 자라섬은 예전에 가봤었는데, <b>남이섬</b> 안 간지가 오래돼서 이번에는 유람선도 탈... 근처에 <b>남이섬</b> 맛집을 찾아봤어요. 일단 선착장 부근으로 한 바튀 돌아보다가 괜찮게 보이는 곳을 하나... ', 'bloggername': '로민유랑단', 'bloggerlink': 'https://blog.naver.com/roynmin', 'postdate': '20190711'}, {'title': '<b>남이섬</b> 맛집 놀러갈땐 필수!!', 'link': 'https://blog.naver.com/sjsvosxja75?Redirect=Log&logNo=221595045909', 'description': '#<b>남이섬</b> #<b>남이섬</b>맛집 #<b>남이섬</b>닭갈비 지난 주에 친구들과 <b>남이섬</b> 갔다가 날씨가 안좋아서 그냥 돌아갔었어요. 너무 아쉬워서 7월 20일에 다시 갔는데 날씨가 약간 흐릿했지만 그래도 저번보다는 괜찮은... ', 'bloggername': '서울하이안치과의 10건강한 선비이야기01', 'bloggerlink': 'https://blog.naver.com/sjsvosxja75', 'postdate': '20190725'}, {'title': '[<b>남이섬</b>] 8월 공연 안내', 'link': 'https://blog.naver.com/namipr?Redirect=Log&logNo=221601876300', 'description': \"8월 <b>남이섬</b>에서 꼭 봐야할 공연 월드뮤직 복합창작단체 #유니파이 발칸집시밴드 #네이키드... 더 많은 공연을 보려면 유투브에서 #<b>남이섬</b>교육문화그룹' 채널을 검색하세요 . . #월드뮤직 #주말... \", 'bloggername': 'Nami Island 남이섬 나미나라공화국', 'bloggerlink': 'https://blog.naver.com/namipr', 'postdate': '20190801'}, {'title': '<b>남이섬</b> 맛집 칭찬하기바빠!', 'link': 'https://blog.naver.com/alsk_2919?Redirect=Log&logNo=221599456697', 'description': '&quot;공부쟁이 유주의 오늘의 포스팅은 <b>남이섬</b> 맛집 입니다!&quot; 안녕하세요 ㅎ 이번에 제가 친구들이랑 <b>남이섬</b>으로 갔다왔는데 자랑하고싶은게 있어서 글쓰고있어영 절친들이 다 회사를 다니긴하는데 그중에서도... ', 'bloggername': '공부하는유주', 'bloggerlink': 'https://blog.naver.com/alsk_2919', 'postdate': '20190730'}, {'title': '<b>남이섬</b> 맛집 유명숙 감탄♡', 'link': 'https://blog.naver.com/wlsgml9552?Redirect=Log&logNo=221564516430', 'description': '부모님이 <b>남이섬</b> 맛집에 다녀 오시고는 완전 강추하길래,,,? 행동력 하나는 최고인 저는 주말에 친구랑... 생각날때 바로바로 가야된다고요 (❁´▽`❁) #<b>남이섬</b>맛집 불타는 추진력으로 당장 오게 되었어요!!... ', 'bloggername': '지니몬 어드벤쳐', 'bloggerlink': 'https://blog.naver.com/wlsgml9552', 'postdate': '20190618'}, {'title': '<b>남이섬</b> 맛집 중독적이다', 'link': 'https://blog.naver.com/onlyoneg123?Redirect=Log&logNo=221578564852', 'description': '서울까지 갔는데 그냥 돌아오기엔 무언가 아쉬워서 친구를 불러서 같이 놀러가자고 하고 약속장소는 <b>남이섬</b> ! 구경하기전에 배를 채우는게 순서죠 뭘 먹을까 고민하다가 <b>남이섬</b>에 오면 당연히 닭갈비 전문점을... ', 'bloggername': '소소함속의 달콤함 ♥', 'bloggerlink': 'https://blog.naver.com/onlyoneg123', 'postdate': '20190705'}, {'title': '<b>남이섬</b> 펜션 쌰바쌰바 ad467펜션', 'link': 'https://blog.naver.com/oioi3030?Redirect=Log&logNo=221584164310', 'description': '행복하다고 <b>남이섬</b>으로는 꼭 여름철에 다시가자는 생각했었던 <b>남이섬</b> ad467펜션 으로 결정! 서울에서 출발해서 차가 막히지도 않고 금새 도착 동해번쩍 서해번쩍 냉큼 쓩 와서 건물외부 부터 보였는데 사진으로... ', 'bloggername': '이린의 밤새는 블로그', 'bloggerlink': 'https://blog.naver.com/oioi3030', 'postdate': '20190712'}, {'title': '<b>남이섬</b>펜션 : 빠져들어!', 'link': 'https://blog.naver.com/kimhanna0518?Redirect=Log&logNo=221582295449', 'description': '<b>남이섬</b>펜션 : 빠져들어! 안녕하세요! 이웃님들 날씨가 점점 더워지면서 저는 벌써 살이 엄청 많이... 그리고나서 오빠가 좋은 장소 예약했다고 그래서 살펴보았는데 <b>남이섬</b>펜션 또는 추천펜션으로 유명한... ', 'bloggername': '맑은하늘', 'bloggerlink': 'https://blog.naver.com/kimhanna0518', 'postdate': '20190710'}, {'title': '가평글램핑 <b>남이섬</b>숙박으로 추천하는 하늘숲글램핑파크', 'link': 'https://blog.naver.com/so01004?Redirect=Log&logNo=221599466401', 'description': '지난 주말 반짝 무더위를 피해 가평으로 여름휴가를 다녀왔다~ 우리가 묵었던 곳은 가평글램핑 <b>남이섬</b>... ㅎㅎㅎ <b>남이섬</b>숙박 하늘숲글램핑파크 이제 내부를 천천히 살펴보자~!! ㅎㅎ 꽤 넓은 전실이 자리잡고... ', 'bloggername': '서툰여자의 일상', 'bloggerlink': 'https://blog.naver.com/so01004', 'postdate': '20190729'}, {'title': '<b>남이섬</b> 맛집 철판이 좋아요', 'link': 'https://blog.naver.com/minjae0413?Redirect=Log&logNo=221596375614', 'description': '<b>남이섬</b> 하면 닭갈비랑 겨울연가라는건 말하지 않아도 아시죠! 저는 이번에 아띠춘천닭갈비에 가서... <b>남이섬</b> 맛집으로 요즘 떠오르고 티비에도 출연요청이 많은집이라고 하더라고요. 손님들이 언제 올지 모르는... ', 'bloggername': '민재네 맛있는 밥상 이야기~☆', 'bloggerlink': 'https://blog.naver.com/minjae0413', 'postdate': '20190726'}]}\n"
     ]
    }
   ],
   "source": [
    "keyword = \"남이섬\"\n",
    "url = url = \"https://openapi.naver.com/v1/search/blog?query=\" + keyword # json 결과\n",
    "result = requests.get(urlparse(url).geturl(),\n",
    "                    headers={\"X-Naver-Client-Id\":\"TW7kAezMnTu_WFX3CuPS\",\n",
    "                     \"X-Naver-Client-Secret\":\"AYU9X8uehE\"})\n",
    "print(result.json())"
   ]
  },
  {
   "cell_type": "code",
   "execution_count": 10,
   "metadata": {},
   "outputs": [
    {
     "name": "stdout",
     "output_type": "stream",
     "text": [
      "{'lastBuildDate': 'Thu, 01 Aug 2019 17:58:30 +0900', 'total': 291079, 'start': 1, 'display': 10, 'items': [{'title': '<b>남이섬</b> 맛집 :: 찰떡궁합이었던 맛!', 'link': 'https://blog.naver.com/roynmin?Redirect=Log&logNo=221582576251', 'description': '아침고요수목원이랑 자라섬은 예전에 가봤었는데, <b>남이섬</b> 안 간지가 오래돼서 이번에는 유람선도 탈... 근처에 <b>남이섬</b> 맛집을 찾아봤어요. 일단 선착장 부근으로 한 바튀 돌아보다가 괜찮게 보이는 곳을 하나... ', 'bloggername': '로민유랑단', 'bloggerlink': 'https://blog.naver.com/roynmin', 'postdate': '20190711'}, {'title': '<b>남이섬</b> 맛집 놀러갈땐 필수!!', 'link': 'https://blog.naver.com/sjsvosxja75?Redirect=Log&logNo=221595045909', 'description': '#<b>남이섬</b> #<b>남이섬</b>맛집 #<b>남이섬</b>닭갈비 지난 주에 친구들과 <b>남이섬</b> 갔다가 날씨가 안좋아서 그냥 돌아갔었어요. 너무 아쉬워서 7월 20일에 다시 갔는데 날씨가 약간 흐릿했지만 그래도 저번보다는 괜찮은... ', 'bloggername': '서울하이안치과의 10건강한 선비이야기01', 'bloggerlink': 'https://blog.naver.com/sjsvosxja75', 'postdate': '20190725'}, {'title': '[<b>남이섬</b>] 8월 공연 안내', 'link': 'https://blog.naver.com/namipr?Redirect=Log&logNo=221601876300', 'description': \"8월 <b>남이섬</b>에서 꼭 봐야할 공연 월드뮤직 복합창작단체 #유니파이 발칸집시밴드 #네이키드... 더 많은 공연을 보려면 유투브에서 #<b>남이섬</b>교육문화그룹' 채널을 검색하세요 . . #월드뮤직 #주말... \", 'bloggername': 'Nami Island 남이섬 나미나라공화국', 'bloggerlink': 'https://blog.naver.com/namipr', 'postdate': '20190801'}, {'title': '<b>남이섬</b> 맛집 칭찬하기바빠!', 'link': 'https://blog.naver.com/alsk_2919?Redirect=Log&logNo=221599456697', 'description': '&quot;공부쟁이 유주의 오늘의 포스팅은 <b>남이섬</b> 맛집 입니다!&quot; 안녕하세요 ㅎ 이번에 제가 친구들이랑 <b>남이섬</b>으로 갔다왔는데 자랑하고싶은게 있어서 글쓰고있어영 절친들이 다 회사를 다니긴하는데 그중에서도... ', 'bloggername': '공부하는유주', 'bloggerlink': 'https://blog.naver.com/alsk_2919', 'postdate': '20190730'}, {'title': '<b>남이섬</b> 맛집 유명숙 감탄♡', 'link': 'https://blog.naver.com/wlsgml9552?Redirect=Log&logNo=221564516430', 'description': '부모님이 <b>남이섬</b> 맛집에 다녀 오시고는 완전 강추하길래,,,? 행동력 하나는 최고인 저는 주말에 친구랑... 생각날때 바로바로 가야된다고요 (❁´▽`❁) #<b>남이섬</b>맛집 불타는 추진력으로 당장 오게 되었어요!!... ', 'bloggername': '지니몬 어드벤쳐', 'bloggerlink': 'https://blog.naver.com/wlsgml9552', 'postdate': '20190618'}, {'title': '<b>남이섬</b> 맛집 중독적이다', 'link': 'https://blog.naver.com/onlyoneg123?Redirect=Log&logNo=221578564852', 'description': '서울까지 갔는데 그냥 돌아오기엔 무언가 아쉬워서 친구를 불러서 같이 놀러가자고 하고 약속장소는 <b>남이섬</b> ! 구경하기전에 배를 채우는게 순서죠 뭘 먹을까 고민하다가 <b>남이섬</b>에 오면 당연히 닭갈비 전문점을... ', 'bloggername': '소소함속의 달콤함 ♥', 'bloggerlink': 'https://blog.naver.com/onlyoneg123', 'postdate': '20190705'}, {'title': '<b>남이섬</b> 펜션 쌰바쌰바 ad467펜션', 'link': 'https://blog.naver.com/oioi3030?Redirect=Log&logNo=221584164310', 'description': '행복하다고 <b>남이섬</b>으로는 꼭 여름철에 다시가자는 생각했었던 <b>남이섬</b> ad467펜션 으로 결정! 서울에서 출발해서 차가 막히지도 않고 금새 도착 동해번쩍 서해번쩍 냉큼 쓩 와서 건물외부 부터 보였는데 사진으로... ', 'bloggername': '이린의 밤새는 블로그', 'bloggerlink': 'https://blog.naver.com/oioi3030', 'postdate': '20190712'}, {'title': '<b>남이섬</b>펜션 : 빠져들어!', 'link': 'https://blog.naver.com/kimhanna0518?Redirect=Log&logNo=221582295449', 'description': '<b>남이섬</b>펜션 : 빠져들어! 안녕하세요! 이웃님들 날씨가 점점 더워지면서 저는 벌써 살이 엄청 많이... 그리고나서 오빠가 좋은 장소 예약했다고 그래서 살펴보았는데 <b>남이섬</b>펜션 또는 추천펜션으로 유명한... ', 'bloggername': '맑은하늘', 'bloggerlink': 'https://blog.naver.com/kimhanna0518', 'postdate': '20190710'}, {'title': '가평글램핑 <b>남이섬</b>숙박으로 추천하는 하늘숲글램핑파크', 'link': 'https://blog.naver.com/so01004?Redirect=Log&logNo=221599466401', 'description': '지난 주말 반짝 무더위를 피해 가평으로 여름휴가를 다녀왔다~ 우리가 묵었던 곳은 가평글램핑 <b>남이섬</b>... ㅎㅎㅎ <b>남이섬</b>숙박 하늘숲글램핑파크 이제 내부를 천천히 살펴보자~!! ㅎㅎ 꽤 넓은 전실이 자리잡고... ', 'bloggername': '서툰여자의 일상', 'bloggerlink': 'https://blog.naver.com/so01004', 'postdate': '20190729'}, {'title': '<b>남이섬</b> 맛집 철판이 좋아요', 'link': 'https://blog.naver.com/minjae0413?Redirect=Log&logNo=221596375614', 'description': '<b>남이섬</b> 하면 닭갈비랑 겨울연가라는건 말하지 않아도 아시죠! 저는 이번에 아띠춘천닭갈비에 가서... <b>남이섬</b> 맛집으로 요즘 떠오르고 티비에도 출연요청이 많은집이라고 하더라고요. 손님들이 언제 올지 모르는... ', 'bloggername': '민재네 맛있는 밥상 이야기~☆', 'bloggerlink': 'https://blog.naver.com/minjae0413', 'postdate': '20190726'}]}\n"
     ]
    }
   ],
   "source": [
    "json_obj = result.json()\n",
    "print(json_obj)"
   ]
  },
  {
   "cell_type": "code",
   "execution_count": null,
   "metadata": {},
   "outputs": [],
   "source": []
  }
 ],
 "metadata": {
  "kernelspec": {
   "display_name": "Python 3",
   "language": "python",
   "name": "python3"
  },
  "language_info": {
   "codemirror_mode": {
    "name": "ipython",
    "version": 3
   },
   "file_extension": ".py",
   "mimetype": "text/x-python",
   "name": "python",
   "nbconvert_exporter": "python",
   "pygments_lexer": "ipython3",
   "version": "3.7.4"
  }
 },
 "nbformat": 4,
 "nbformat_minor": 2
}
